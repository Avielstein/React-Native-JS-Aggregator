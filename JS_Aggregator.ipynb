{
 "cells": [
  {
   "cell_type": "code",
   "execution_count": 8,
   "id": "3686ad47-467c-457f-b060-3db94b892617",
   "metadata": {},
   "outputs": [
    {
     "data": {
      "application/vnd.jupyter.widget-view+json": {
       "model_id": "840593cd709a4dde81b5a2eb7466216c",
       "version_major": 2,
       "version_minor": 0
      },
      "text/plain": [
       "Combining Files:   0%|          | 0/15 [00:00<?, ?it/s]"
      ]
     },
     "metadata": {},
     "output_type": "display_data"
    },
    {
     "name": "stdout",
     "output_type": "stream",
     "text": [
      "All JavaScript files have been combined into combined_output.js\n"
     ]
    }
   ],
   "source": [
    "import os\n",
    "from tqdm.notebook import tqdm\n",
    "\n",
    "def combine_js_files_react_native_with_progress(directory, output_file):\n",
    "    \"\"\"\n",
    "    Combines all JavaScript files in a React Native project into a single file,\n",
    "    excluding specified directories and file types, with a progress bar.\n",
    "    \n",
    "    :param directory: Path to the directory containing the React Native project.\n",
    "    :param output_file: Path to the output file that will contain combined JavaScript.\n",
    "    \"\"\"\n",
    "    js_content = []\n",
    "    excluded_dirs = {'node_modules', '.git', 'build', 'dist', 'ios', 'android', '__tests__', 'coverage', '.expo'}\n",
    "    excluded_files = {'.babelrc', '.eslintrc.js', '.prettierrc', 'webpack.config.js', '.env', 'babel.config.js'}\n",
    "    \n",
    "    # Prepare a list of JavaScript files excluding certain directories and files\n",
    "    js_files = []\n",
    "    for root, dirs, files in os.walk(directory, topdown=True):\n",
    "        dirs[:] = [d for d in dirs if d not in excluded_dirs]\n",
    "        for file in files:\n",
    "            if file.endswith('.js') and file not in excluded_files:\n",
    "                js_files.append(os.path.join(root, file))\n",
    "    \n",
    "    # Process each JavaScript file with a progress bar\n",
    "    for file_path in tqdm(js_files, desc='Combining Files'):\n",
    "        with open(file_path, 'r', encoding='utf-8') as file:\n",
    "            file_content = file.read()\n",
    "            js_content.append(f\"// Path: {file_path}\\n{file_content}\\n\")\n",
    "    \n",
    "    # Write all JavaScript content to the output file\n",
    "    with open(output_file, 'w', encoding='utf-8') as file:\n",
    "        file.writelines(js_content)\n",
    "    print(f\"All JavaScript files have been combined into {output_file}\")\n",
    "\n",
    "# Example usage\n",
    "combine_js_files_react_native_with_progress('Wuzup_files', 'combined_output.js')\n"
   ]
  },
  {
   "cell_type": "code",
   "execution_count": null,
   "id": "dc498fb0-eb7c-4bfd-ba65-bca9edcd1b58",
   "metadata": {},
   "outputs": [],
   "source": []
  }
 ],
 "metadata": {
  "kernelspec": {
   "display_name": "Python 3 (ipykernel)",
   "language": "python",
   "name": "python3"
  },
  "language_info": {
   "codemirror_mode": {
    "name": "ipython",
    "version": 3
   },
   "file_extension": ".py",
   "mimetype": "text/x-python",
   "name": "python",
   "nbconvert_exporter": "python",
   "pygments_lexer": "ipython3",
   "version": "3.11.5"
  }
 },
 "nbformat": 4,
 "nbformat_minor": 5
}
